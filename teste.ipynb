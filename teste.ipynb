{
 "cells": [
  {
   "cell_type": "code",
   "execution_count": 8,
   "metadata": {},
   "outputs": [
    {
     "name": "stdout",
     "output_type": "stream",
     "text": [
      "   Julho        Unnamed: 1    Unnamed: 2           Unnamed: 3  Unnamed: 4  \\\n",
      "7    ID             Conta           Tipo                 Data  Categoria    \n",
      "8     13  Inter-Mastercard       Despesa  2023-07-23 00:00:00      Outros   \n",
      "9     12  Inter-Mastercard       Despesa  2023-07-10 00:00:00      Outros   \n",
      "10    11  Inter-Mastercard       Receita  2023-07-08 00:00:00      Outros   \n",
      "11    10  Inter-Mastercard       Despesa  2023-07-06 00:00:00     Comida    \n",
      "12     9         Caixa-CP   Investimento  2023-07-06 00:00:00      Outros   \n",
      "13     8  Inter-Mastercard       Despesa  2023-07-06 00:00:00     Comida    \n",
      "14     7  Inter-Mastercard       Despesa  2023-07-06 00:00:00     Comida    \n",
      "15     6  Inter-Mastercard       Despesa  2023-07-03 00:00:00      Outros   \n",
      "16     5  Inter-Mastercard       Despesa  2023-07-02 00:00:00     Comida    \n",
      "17     4  Inter-Mastercard       Despesa  2023-07-01 00:00:00       Carro   \n",
      "18     3         Caixa-CP        Receita  2023-07-01 00:00:00    Salário    \n",
      "19     2  Inter-Mastercard       Receita  2023-07-01 00:00:00    Salário    \n",
      "20     1  Inter-Mastercard       Receita  2023-07-01 00:00:00    Salário    \n",
      "21   NaN               NaN           NaN                  NaN         NaN   \n",
      "22   NaN               NaN           NaN                  NaN         NaN   \n",
      "\n",
      "             Unnamed: 5 Unnamed: 6  \n",
      "7             Descrição     Valor   \n",
      "8               Fatura      286.08  \n",
      "9   Acampamento Nathan         100  \n",
      "10                  Pix         12  \n",
      "11            Bananinha          3  \n",
      "12                  NaN       1000  \n",
      "13            Creatina          80  \n",
      "14                 Açai         15  \n",
      "15              Fatura      262.28  \n",
      "16   Hamburgueria Melt        76.7  \n",
      "17      Estacionamento           8  \n",
      "18      Fund Araucária         500  \n",
      "19    Vale alimentação         400  \n",
      "20                 Atos       1600  \n",
      "21                  NaN        NaN  \n",
      "22                  NaN        NaN  \n"
     ]
    },
    {
     "name": "stderr",
     "output_type": "stream",
     "text": [
      "c:\\Git\\Controle-financeiro\\env\\lib\\site-packages\\openpyxl\\worksheet\\_reader.py:329: UserWarning: Data Validation extension is not supported and will be removed\n",
      "  warn(msg)\n"
     ]
    }
   ],
   "source": [
    "import pandas as pd \n",
    "df = pd.read_excel('C:\\Git\\Controle-financeiro\\Controle_de_gastos_2023.xlsx')\n",
    "\n",
    "print(df.iloc[7:23, :7])"
   ]
  }
 ],
 "metadata": {
  "kernelspec": {
   "display_name": "env",
   "language": "python",
   "name": "python3"
  },
  "language_info": {
   "codemirror_mode": {
    "name": "ipython",
    "version": 3
   },
   "file_extension": ".py",
   "mimetype": "text/x-python",
   "name": "python",
   "nbconvert_exporter": "python",
   "pygments_lexer": "ipython3",
   "version": "3.8.10"
  },
  "orig_nbformat": 4
 },
 "nbformat": 4,
 "nbformat_minor": 2
}
